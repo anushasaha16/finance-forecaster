{
 "metadata": {
  "language_info": {
   "codemirror_mode": {
    "name": "ipython",
    "version": 3
   },
   "file_extension": ".py",
   "mimetype": "text/x-python",
   "name": "python",
   "nbconvert_exporter": "python",
   "pygments_lexer": "ipython3",
   "version": 3
  },
  "orig_nbformat": 2
 },
 "nbformat": 4,
 "nbformat_minor": 2,
 "cells": [
  {
   "source": [
    "# Training a model"
   ],
   "cell_type": "markdown",
   "metadata": {}
  },
  {
   "source": [
    "## Scraping the data"
   ],
   "cell_type": "markdown",
   "metadata": {}
  },
  {
   "source": [
    "Gather data from https://fred.stlouisfed.org/ on Personal Consumption Expenditures (PCE) each month from January 2016 to April 2021."
   ],
   "cell_type": "markdown",
   "metadata": {}
  },
  {
   "source": [
    "### Import necessary libraries"
   ],
   "cell_type": "markdown",
   "metadata": {}
  },
  {
   "cell_type": "code",
   "execution_count": null,
   "metadata": {},
   "outputs": [],
   "source": [
    "from selenium import webdriver\n",
    "from selenium.webdriver.common.keys import Keys\n",
    "import pandas as pd\n",
    "import datetime\n",
    "from dateutil.relativedelta import relativedelta"
   ]
  },
  {
   "source": [
    "### Create a ChromeDriver Instance"
   ],
   "cell_type": "markdown",
   "metadata": {}
  },
  {
   "cell_type": "code",
   "execution_count": null,
   "metadata": {},
   "outputs": [],
   "source": [
    "options = webdriver.ChromeOptions()\n",
    "options.add_experimental_option('excludeSwitches', ['enable-logging'])\n",
    "driver = webdriver.Chrome(options=options)"
   ]
  },
  {
   "source": [
    "### Get data"
   ],
   "cell_type": "markdown",
   "metadata": {}
  },
  {
   "cell_type": "code",
   "execution_count": null,
   "metadata": {},
   "outputs": [],
   "source": [
    "data = {'Month': [], 'PCE': []}\n",
    "date = datetime.datetime(2016, 1, 1)\n",
    "for i in range(64):\n",
    "    year = date.year\n",
    "    month = str(date.month).zfill(2)\n",
    "    url = \"https://fred.stlouisfed.org/release/tables?rid=54&eid=3220&od={}-{}-01#\".format(year,month)\n",
    "    driver.get(url)\n",
    "    pce = driver.find_element_by_xpath('//*[@id=\"release-elements-tree\"]/tbody/tr[1]/td[4]')\n",
    "    print(pce.text)\n",
    "    data['Month'].append(month + '-' + str(year))\n",
    "    data['PCE'].append(pce.text)\n",
    "    date = date + relativedelta(months=1)\n",
    "driver.quit()"
   ]
  },
  {
   "source": [
    "### Create a Pandas DataFrame"
   ],
   "cell_type": "markdown",
   "metadata": {}
  },
  {
   "cell_type": "code",
   "execution_count": null,
   "metadata": {},
   "outputs": [],
   "source": [
    "df = pd.DataFrame(data)\n",
    "print(df)"
   ]
  }
 ]
}