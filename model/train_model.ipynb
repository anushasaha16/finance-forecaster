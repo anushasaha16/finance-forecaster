{
 "cells": [
  {
   "cell_type": "markdown",
   "source": [
    "# Training a model to predict future personal consumption"
   ],
   "metadata": {}
  },
  {
   "cell_type": "markdown",
   "source": [
    "## Scrape the data"
   ],
   "metadata": {}
  },
  {
   "cell_type": "markdown",
   "source": [
    "Gather data from https://fred.stlouisfed.org/ on Personal Consumption Expenditures (PCE) each month from January 2011 to May 2021."
   ],
   "metadata": {}
  },
  {
   "cell_type": "markdown",
   "source": [
    "### Import necessary libraries"
   ],
   "metadata": {}
  },
  {
   "cell_type": "code",
   "execution_count": 1,
   "source": [
    "from selenium import webdriver\r\n",
    "from selenium.webdriver.common.keys import Keys\r\n",
    "import pandas as pd\r\n",
    "import datetime\r\n",
    "from dateutil.relativedelta import relativedelta"
   ],
   "outputs": [
    {
     "output_type": "error",
     "ename": "KeyboardInterrupt",
     "evalue": "",
     "traceback": [
      "\u001b[1;31m---------------------------------------------------------------------------\u001b[0m",
      "\u001b[1;31mKeyboardInterrupt\u001b[0m                         Traceback (most recent call last)",
      "\u001b[1;32m<ipython-input-1-1843b0feeaa1>\u001b[0m in \u001b[0;36m<module>\u001b[1;34m\u001b[0m\n\u001b[0;32m      1\u001b[0m \u001b[1;32mfrom\u001b[0m \u001b[0mselenium\u001b[0m \u001b[1;32mimport\u001b[0m \u001b[0mwebdriver\u001b[0m\u001b[1;33m\u001b[0m\u001b[1;33m\u001b[0m\u001b[0m\n\u001b[0;32m      2\u001b[0m \u001b[1;32mfrom\u001b[0m \u001b[0mselenium\u001b[0m\u001b[1;33m.\u001b[0m\u001b[0mwebdriver\u001b[0m\u001b[1;33m.\u001b[0m\u001b[0mcommon\u001b[0m\u001b[1;33m.\u001b[0m\u001b[0mkeys\u001b[0m \u001b[1;32mimport\u001b[0m \u001b[0mKeys\u001b[0m\u001b[1;33m\u001b[0m\u001b[1;33m\u001b[0m\u001b[0m\n\u001b[1;32m----> 3\u001b[1;33m \u001b[1;32mimport\u001b[0m \u001b[0mpandas\u001b[0m \u001b[1;32mas\u001b[0m \u001b[0mpd\u001b[0m\u001b[1;33m\u001b[0m\u001b[1;33m\u001b[0m\u001b[0m\n\u001b[0m\u001b[0;32m      4\u001b[0m \u001b[1;32mimport\u001b[0m \u001b[0mdatetime\u001b[0m\u001b[1;33m\u001b[0m\u001b[1;33m\u001b[0m\u001b[0m\n\u001b[0;32m      5\u001b[0m \u001b[1;32mfrom\u001b[0m \u001b[0mdateutil\u001b[0m\u001b[1;33m.\u001b[0m\u001b[0mrelativedelta\u001b[0m \u001b[1;32mimport\u001b[0m \u001b[0mrelativedelta\u001b[0m\u001b[1;33m\u001b[0m\u001b[1;33m\u001b[0m\u001b[0m\n",
      "\u001b[1;32mC:\\Program Files\\Microsoft Visual Studio\\Shared\\Python37_64\\lib\\site-packages\\pandas\\__init__.py\u001b[0m in \u001b[0;36m<module>\u001b[1;34m\u001b[0m\n\u001b[0;32m     50\u001b[0m \u001b[1;32mimport\u001b[0m \u001b[0mpandas\u001b[0m\u001b[1;33m.\u001b[0m\u001b[0mcore\u001b[0m\u001b[1;33m.\u001b[0m\u001b[0mconfig_init\u001b[0m\u001b[1;33m\u001b[0m\u001b[1;33m\u001b[0m\u001b[0m\n\u001b[0;32m     51\u001b[0m \u001b[1;33m\u001b[0m\u001b[0m\n\u001b[1;32m---> 52\u001b[1;33m from pandas.core.api import (\n\u001b[0m\u001b[0;32m     53\u001b[0m     \u001b[1;31m# dtype\u001b[0m\u001b[1;33m\u001b[0m\u001b[1;33m\u001b[0m\u001b[1;33m\u001b[0m\u001b[0m\n\u001b[0;32m     54\u001b[0m     \u001b[0mInt8Dtype\u001b[0m\u001b[1;33m,\u001b[0m\u001b[1;33m\u001b[0m\u001b[1;33m\u001b[0m\u001b[0m\n",
      "\u001b[1;32mC:\\Program Files\\Microsoft Visual Studio\\Shared\\Python37_64\\lib\\site-packages\\pandas\\core\\api.py\u001b[0m in \u001b[0;36m<module>\u001b[1;34m\u001b[0m\n\u001b[0;32m     27\u001b[0m \u001b[1;32mfrom\u001b[0m \u001b[0mpandas\u001b[0m\u001b[1;33m.\u001b[0m\u001b[0mcore\u001b[0m\u001b[1;33m.\u001b[0m\u001b[0marrays\u001b[0m\u001b[1;33m.\u001b[0m\u001b[0mstring_\u001b[0m \u001b[1;32mimport\u001b[0m \u001b[0mStringDtype\u001b[0m\u001b[1;33m\u001b[0m\u001b[1;33m\u001b[0m\u001b[0m\n\u001b[0;32m     28\u001b[0m \u001b[1;32mfrom\u001b[0m \u001b[0mpandas\u001b[0m\u001b[1;33m.\u001b[0m\u001b[0mcore\u001b[0m\u001b[1;33m.\u001b[0m\u001b[0mconstruction\u001b[0m \u001b[1;32mimport\u001b[0m \u001b[0marray\u001b[0m\u001b[1;33m\u001b[0m\u001b[1;33m\u001b[0m\u001b[0m\n\u001b[1;32m---> 29\u001b[1;33m \u001b[1;32mfrom\u001b[0m \u001b[0mpandas\u001b[0m\u001b[1;33m.\u001b[0m\u001b[0mcore\u001b[0m\u001b[1;33m.\u001b[0m\u001b[0mgroupby\u001b[0m \u001b[1;32mimport\u001b[0m \u001b[0mGrouper\u001b[0m\u001b[1;33m,\u001b[0m \u001b[0mNamedAgg\u001b[0m\u001b[1;33m\u001b[0m\u001b[1;33m\u001b[0m\u001b[0m\n\u001b[0m\u001b[0;32m     30\u001b[0m from pandas.core.indexes.api import (\n\u001b[0;32m     31\u001b[0m     \u001b[0mCategoricalIndex\u001b[0m\u001b[1;33m,\u001b[0m\u001b[1;33m\u001b[0m\u001b[1;33m\u001b[0m\u001b[0m\n",
      "\u001b[1;32mC:\\Program Files\\Microsoft Visual Studio\\Shared\\Python37_64\\lib\\site-packages\\pandas\\core\\groupby\\__init__.py\u001b[0m in \u001b[0;36m<module>\u001b[1;34m\u001b[0m\n\u001b[1;32m----> 1\u001b[1;33m \u001b[1;32mfrom\u001b[0m \u001b[0mpandas\u001b[0m\u001b[1;33m.\u001b[0m\u001b[0mcore\u001b[0m\u001b[1;33m.\u001b[0m\u001b[0mgroupby\u001b[0m\u001b[1;33m.\u001b[0m\u001b[0mgeneric\u001b[0m \u001b[1;32mimport\u001b[0m \u001b[0mDataFrameGroupBy\u001b[0m\u001b[1;33m,\u001b[0m \u001b[0mNamedAgg\u001b[0m\u001b[1;33m,\u001b[0m \u001b[0mSeriesGroupBy\u001b[0m\u001b[1;33m\u001b[0m\u001b[1;33m\u001b[0m\u001b[0m\n\u001b[0m\u001b[0;32m      2\u001b[0m \u001b[1;32mfrom\u001b[0m \u001b[0mpandas\u001b[0m\u001b[1;33m.\u001b[0m\u001b[0mcore\u001b[0m\u001b[1;33m.\u001b[0m\u001b[0mgroupby\u001b[0m\u001b[1;33m.\u001b[0m\u001b[0mgroupby\u001b[0m \u001b[1;32mimport\u001b[0m \u001b[0mGroupBy\u001b[0m\u001b[1;33m\u001b[0m\u001b[1;33m\u001b[0m\u001b[0m\n\u001b[0;32m      3\u001b[0m \u001b[1;32mfrom\u001b[0m \u001b[0mpandas\u001b[0m\u001b[1;33m.\u001b[0m\u001b[0mcore\u001b[0m\u001b[1;33m.\u001b[0m\u001b[0mgroupby\u001b[0m\u001b[1;33m.\u001b[0m\u001b[0mgrouper\u001b[0m \u001b[1;32mimport\u001b[0m \u001b[0mGrouper\u001b[0m\u001b[1;33m\u001b[0m\u001b[1;33m\u001b[0m\u001b[0m\n\u001b[0;32m      4\u001b[0m \u001b[1;33m\u001b[0m\u001b[0m\n\u001b[0;32m      5\u001b[0m __all__ = [\n",
      "\u001b[1;32mC:\\Program Files\\Microsoft Visual Studio\\Shared\\Python37_64\\lib\\site-packages\\pandas\\core\\groupby\\generic.py\u001b[0m in \u001b[0;36m<module>\u001b[1;34m\u001b[0m\n\u001b[0;32m     55\u001b[0m \u001b[1;32mfrom\u001b[0m \u001b[0mpandas\u001b[0m\u001b[1;33m.\u001b[0m\u001b[0mcore\u001b[0m\u001b[1;33m.\u001b[0m\u001b[0mdtypes\u001b[0m\u001b[1;33m.\u001b[0m\u001b[0mmissing\u001b[0m \u001b[1;32mimport\u001b[0m \u001b[0misna\u001b[0m\u001b[1;33m,\u001b[0m \u001b[0mnotna\u001b[0m\u001b[1;33m\u001b[0m\u001b[1;33m\u001b[0m\u001b[0m\n\u001b[0;32m     56\u001b[0m \u001b[1;33m\u001b[0m\u001b[0m\n\u001b[1;32m---> 57\u001b[1;33m from pandas.core.aggregation import (\n\u001b[0m\u001b[0;32m     58\u001b[0m     \u001b[0mmaybe_mangle_lambdas\u001b[0m\u001b[1;33m,\u001b[0m\u001b[1;33m\u001b[0m\u001b[1;33m\u001b[0m\u001b[0m\n\u001b[0;32m     59\u001b[0m     \u001b[0mreconstruct_func\u001b[0m\u001b[1;33m,\u001b[0m\u001b[1;33m\u001b[0m\u001b[1;33m\u001b[0m\u001b[0m\n",
      "\u001b[1;32mC:\\Program Files\\Microsoft Visual Studio\\Shared\\Python37_64\\lib\\site-packages\\pandas\\core\\aggregation.py\u001b[0m in \u001b[0;36m<module>\u001b[1;34m\u001b[0m\n\u001b[0;32m     25\u001b[0m \u001b[1;32mimport\u001b[0m \u001b[0mpandas\u001b[0m\u001b[1;33m.\u001b[0m\u001b[0mcore\u001b[0m\u001b[1;33m.\u001b[0m\u001b[0mcommon\u001b[0m \u001b[1;32mas\u001b[0m \u001b[0mcom\u001b[0m\u001b[1;33m\u001b[0m\u001b[1;33m\u001b[0m\u001b[0m\n\u001b[0;32m     26\u001b[0m \u001b[1;32mfrom\u001b[0m \u001b[0mpandas\u001b[0m\u001b[1;33m.\u001b[0m\u001b[0mcore\u001b[0m\u001b[1;33m.\u001b[0m\u001b[0mindexes\u001b[0m\u001b[1;33m.\u001b[0m\u001b[0mapi\u001b[0m \u001b[1;32mimport\u001b[0m \u001b[0mIndex\u001b[0m\u001b[1;33m\u001b[0m\u001b[1;33m\u001b[0m\u001b[0m\n\u001b[1;32m---> 27\u001b[1;33m \u001b[1;32mfrom\u001b[0m \u001b[0mpandas\u001b[0m\u001b[1;33m.\u001b[0m\u001b[0mcore\u001b[0m\u001b[1;33m.\u001b[0m\u001b[0mseries\u001b[0m \u001b[1;32mimport\u001b[0m \u001b[0mFrameOrSeriesUnion\u001b[0m\u001b[1;33m,\u001b[0m \u001b[0mSeries\u001b[0m\u001b[1;33m\u001b[0m\u001b[1;33m\u001b[0m\u001b[0m\n\u001b[0m\u001b[0;32m     28\u001b[0m \u001b[1;33m\u001b[0m\u001b[0m\n\u001b[0;32m     29\u001b[0m \u001b[1;33m\u001b[0m\u001b[0m\n",
      "\u001b[1;32mC:\\Program Files\\Microsoft Visual Studio\\Shared\\Python37_64\\lib\\site-packages\\pandas\\core\\series.py\u001b[0m in \u001b[0;36m<module>\u001b[1;34m\u001b[0m\n\u001b[0;32m     23\u001b[0m \u001b[1;32mfrom\u001b[0m \u001b[0mpandas\u001b[0m\u001b[1;33m.\u001b[0m\u001b[0m_config\u001b[0m \u001b[1;32mimport\u001b[0m \u001b[0mget_option\u001b[0m\u001b[1;33m\u001b[0m\u001b[1;33m\u001b[0m\u001b[0m\n\u001b[0;32m     24\u001b[0m \u001b[1;33m\u001b[0m\u001b[0m\n\u001b[1;32m---> 25\u001b[1;33m \u001b[1;32mfrom\u001b[0m \u001b[0mpandas\u001b[0m\u001b[1;33m.\u001b[0m\u001b[0m_libs\u001b[0m \u001b[1;32mimport\u001b[0m \u001b[0mlib\u001b[0m\u001b[1;33m,\u001b[0m \u001b[0mproperties\u001b[0m\u001b[1;33m,\u001b[0m \u001b[0mreshape\u001b[0m\u001b[1;33m,\u001b[0m \u001b[0mtslibs\u001b[0m\u001b[1;33m\u001b[0m\u001b[1;33m\u001b[0m\u001b[0m\n\u001b[0m\u001b[0;32m     26\u001b[0m \u001b[1;32mfrom\u001b[0m \u001b[0mpandas\u001b[0m\u001b[1;33m.\u001b[0m\u001b[0m_libs\u001b[0m\u001b[1;33m.\u001b[0m\u001b[0mlib\u001b[0m \u001b[1;32mimport\u001b[0m \u001b[0mno_default\u001b[0m\u001b[1;33m\u001b[0m\u001b[1;33m\u001b[0m\u001b[0m\n\u001b[0;32m     27\u001b[0m from pandas._typing import (\n",
      "\u001b[1;32mC:\\Program Files\\Microsoft Visual Studio\\Shared\\Python37_64\\lib\\importlib\\_bootstrap.py\u001b[0m in \u001b[0;36mparent\u001b[1;34m(self)\u001b[0m\n",
      "\u001b[1;31mKeyboardInterrupt\u001b[0m: "
     ]
    }
   ],
   "metadata": {}
  },
  {
   "cell_type": "markdown",
   "source": [
    "### Create a ChromeDriver Instance"
   ],
   "metadata": {}
  },
  {
   "cell_type": "code",
   "execution_count": null,
   "source": [
    "options = webdriver.ChromeOptions()\r\n",
    "options.add_experimental_option('excludeSwitches', ['enable-logging'])\r\n",
    "driver = webdriver.Chrome(options=options)"
   ],
   "outputs": [],
   "metadata": {}
  },
  {
   "cell_type": "markdown",
   "source": [
    "### Get data"
   ],
   "metadata": {}
  },
  {
   "cell_type": "code",
   "execution_count": null,
   "source": [
    "data = {'Month': [], 'PCE': []}\r\n",
    "date = datetime.datetime(2011, 1, 1)\r\n",
    "for i in range(125):\r\n",
    "    year = date.year\r\n",
    "    month = str(date.month).zfill(2)\r\n",
    "    url = \"https://fred.stlouisfed.org/release/tables?rid=54&eid=3220&od={}-{}-01#\".format(year,month)\r\n",
    "    driver.get(url)\r\n",
    "    pce = driver.find_element_by_xpath('//*[@id=\"release-elements-tree\"]/tbody/tr[1]/td[4]')\r\n",
    "    print(pce.text)\r\n",
    "    data['Month'].append(month + '-' + str(year))\r\n",
    "    data['PCE'].append(pce.text)\r\n",
    "    date = date + relativedelta(months=1)\r\n",
    "driver.quit()"
   ],
   "outputs": [
    {
     "output_type": "stream",
     "name": "stdout",
     "text": [
      "10,435.5\n",
      "10,470.1\n",
      "10,550.5\n",
      "10,587.6\n",
      "10,612.0\n",
      "10,636.8\n",
      "10,677.5\n",
      "10,700.6\n",
      "10,738.1\n",
      "10,753.1\n",
      "10,759.5\n",
      "10,772.2\n",
      "10,862.1\n",
      "10,953.5\n",
      "10,951.8\n",
      "10,979.7\n",
      "10,968.6\n",
      "10,946.3\n",
      "10,977.2\n",
      "11,004.1\n",
      "11,061.5\n",
      "11,099.8\n",
      "11,136.8\n",
      "11,140.5\n",
      "11,202.8\n",
      "11,239.6\n",
      "11,227.1\n",
      "11,205.4\n",
      "11,244.6\n",
      "11,268.8\n",
      "11,296.7\n",
      "11,329.2\n",
      "11,366.9\n",
      "11,419.8\n",
      "11,487.6\n",
      "11,517.9\n",
      "11,503.7\n",
      "11,574.5\n",
      "11,644.5\n",
      "11,707.1\n",
      "11,750.9\n",
      "11,812.7\n",
      "11,858.1\n",
      "11,939.1\n",
      "11,948.8\n",
      "12,018.4\n",
      "12,050.2\n",
      "12,065.0\n",
      "12,046.1\n",
      "12,098.3\n",
      "12,152.8\n",
      "12,196.3\n",
      "12,264.5\n",
      "12,305.8\n",
      "12,366.1\n",
      "12,400.9\n",
      "12,400.9\n",
      "12,409.3\n",
      "12,446.3\n",
      "12,482.4\n",
      "12,506.0\n",
      "12,579.3\n",
      "12,569.7\n",
      "12,649.4\n",
      "12,696.1\n",
      "12,777.0\n",
      "12,794.2\n",
      "12,836.0\n",
      "12,893.2\n",
      "12,922.7\n",
      "12,957.8\n",
      "13,058.0\n",
      "13,122.2\n",
      "13,140.9\n",
      "13,196.5\n",
      "13,222.2\n",
      "13,225.7\n",
      "13,275.9\n",
      "13,301.3\n",
      "13,344.5\n",
      "13,466.9\n",
      "13,503.5\n",
      "13,593.7\n",
      "13,690.9\n",
      "13,716.5\n",
      "13,738.4\n",
      "13,811.8\n",
      "13,875.8\n",
      "13,953.7\n",
      "13,990.1\n",
      "14,048.3\n",
      "14,102.2\n",
      "14,108.3\n",
      "14,193.8\n",
      "14,249.7\n",
      "14,130.8\n",
      "14,223.7\n",
      "14,236.1\n",
      "14,370.0\n",
      "14,443.2\n",
      "14,493.0\n",
      "14,555.8\n",
      "14,611.9\n",
      "14,650.9\n",
      "14,673.2\n",
      "14,728.5\n",
      "14,752.8\n",
      "14,796.3\n",
      "14,880.5\n",
      "14,877.4\n",
      "13,878.5\n",
      "12,112.1\n",
      "13,165.4\n",
      "14,014.6\n",
      "14,224.7\n",
      "14,397.2\n",
      "14,582.7\n",
      "14,627.1\n",
      "14,532.8\n",
      "14,451.1\n",
      "14,921.1\n",
      "14,774.0\n",
      "15,515.3\n",
      "15,656.4\n",
      "15,659.3\n"
     ]
    }
   ],
   "metadata": {}
  },
  {
   "cell_type": "markdown",
   "source": [
    "### Create a Pandas DataFrame"
   ],
   "metadata": {}
  },
  {
   "cell_type": "code",
   "execution_count": null,
   "source": [
    "df = pd.DataFrame(data)\r\n",
    "df.to_pickle(\"df.pkl\") #saves the dataframe locally\r\n",
    "print(df)"
   ],
   "outputs": [
    {
     "output_type": "stream",
     "name": "stdout",
     "text": [
      "       Month       PCE\n",
      "0    01-2011  10,435.5\n",
      "1    02-2011  10,470.1\n",
      "2    03-2011  10,550.5\n",
      "3    04-2011  10,587.6\n",
      "4    05-2011  10,612.0\n",
      "..       ...       ...\n",
      "120  01-2021  14,921.1\n",
      "121  02-2021  14,774.0\n",
      "122  03-2021  15,515.3\n",
      "123  04-2021  15,656.4\n",
      "124  05-2021  15,659.3\n",
      "\n",
      "[125 rows x 2 columns]\n"
     ]
    }
   ],
   "metadata": {}
  },
  {
   "cell_type": "markdown",
   "source": [
    "## Preprocessing the Data"
   ],
   "metadata": {}
  },
  {
   "cell_type": "markdown",
   "source": [
    "### Import the necessary libraries"
   ],
   "metadata": {}
  },
  {
   "cell_type": "code",
   "execution_count": 117,
   "source": [
    "import os\r\n",
    "import datetime\r\n",
    "\r\n",
    "import IPython\r\n",
    "import IPython.display\r\n",
    "import matplotlib as mpl\r\n",
    "import matplotlib.pyplot as plt\r\n",
    "import numpy as np\r\n",
    "import pandas as pd\r\n",
    "import seaborn as sns\r\n",
    "from sklearn.preprocessing import StandardScaler\r\n",
    "import tensorflow as tf\r\n",
    "\r\n",
    "mpl.rcParams['figure.figsize'] = (8, 6)\r\n",
    "mpl.rcParams['axes.grid'] = False"
   ],
   "outputs": [],
   "metadata": {}
  },
  {
   "cell_type": "markdown",
   "source": [
    "### Inspect and Clean the Dataset"
   ],
   "metadata": {}
  },
  {
   "cell_type": "code",
   "execution_count": 118,
   "source": [
    "df = pd.read_pickle(\"df.pkl\")\r\n",
    "df.shape"
   ],
   "outputs": [
    {
     "output_type": "execute_result",
     "data": {
      "text/plain": [
       "(125, 2)"
      ]
     },
     "metadata": {},
     "execution_count": 118
    }
   ],
   "metadata": {}
  },
  {
   "cell_type": "code",
   "execution_count": 119,
   "source": [
    "month_col = pd.to_datetime(df.pop('Month'), format='%m-%Y')\r\n",
    "month_col"
   ],
   "outputs": [
    {
     "output_type": "execute_result",
     "data": {
      "text/plain": [
       "0     2011-01-01\n",
       "1     2011-02-01\n",
       "2     2011-03-01\n",
       "3     2011-04-01\n",
       "4     2011-05-01\n",
       "         ...    \n",
       "120   2021-01-01\n",
       "121   2021-02-01\n",
       "122   2021-03-01\n",
       "123   2021-04-01\n",
       "124   2021-05-01\n",
       "Name: Month, Length: 125, dtype: datetime64[ns]"
      ]
     },
     "metadata": {},
     "execution_count": 119
    }
   ],
   "metadata": {}
  },
  {
   "cell_type": "code",
   "execution_count": 120,
   "source": [
    "df[\"PCE\"] = df[\"PCE\"].str.replace(\",\",\"\").astype(float)"
   ],
   "outputs": [],
   "metadata": {}
  },
  {
   "cell_type": "code",
   "execution_count": 121,
   "source": [
    "df.head()"
   ],
   "outputs": [
    {
     "output_type": "execute_result",
     "data": {
      "text/plain": [
       "       PCE\n",
       "0  10435.5\n",
       "1  10470.1\n",
       "2  10550.5\n",
       "3  10587.6\n",
       "4  10612.0"
      ],
      "text/html": [
       "<div>\n",
       "<style scoped>\n",
       "    .dataframe tbody tr th:only-of-type {\n",
       "        vertical-align: middle;\n",
       "    }\n",
       "\n",
       "    .dataframe tbody tr th {\n",
       "        vertical-align: top;\n",
       "    }\n",
       "\n",
       "    .dataframe thead th {\n",
       "        text-align: right;\n",
       "    }\n",
       "</style>\n",
       "<table border=\"1\" class=\"dataframe\">\n",
       "  <thead>\n",
       "    <tr style=\"text-align: right;\">\n",
       "      <th></th>\n",
       "      <th>PCE</th>\n",
       "    </tr>\n",
       "  </thead>\n",
       "  <tbody>\n",
       "    <tr>\n",
       "      <th>0</th>\n",
       "      <td>10435.5</td>\n",
       "    </tr>\n",
       "    <tr>\n",
       "      <th>1</th>\n",
       "      <td>10470.1</td>\n",
       "    </tr>\n",
       "    <tr>\n",
       "      <th>2</th>\n",
       "      <td>10550.5</td>\n",
       "    </tr>\n",
       "    <tr>\n",
       "      <th>3</th>\n",
       "      <td>10587.6</td>\n",
       "    </tr>\n",
       "    <tr>\n",
       "      <th>4</th>\n",
       "      <td>10612.0</td>\n",
       "    </tr>\n",
       "  </tbody>\n",
       "</table>\n",
       "</div>"
      ]
     },
     "metadata": {},
     "execution_count": 121
    }
   ],
   "metadata": {}
  },
  {
   "cell_type": "code",
   "execution_count": 122,
   "source": [
    "plot_cols = ['PCE']\r\n",
    "plot_features = df[plot_cols]\r\n",
    "plot_features\r\n",
    "plot_features.index = month_col\r\n",
    "_ = plot_features.plot(subplots=True)"
   ],
   "outputs": [
    {
     "output_type": "display_data",
     "data": {
      "text/plain": [
       "<Figure size 576x432 with 1 Axes>"
      ],
      "image/png": "[encoded data removed]"
     },
     "metadata": {
      "needs_background": "light"
     }
    }
   ],
   "metadata": {}
  },
  {
   "cell_type": "code",
   "execution_count": 123,
   "source": [
    "df.describe().transpose()"
   ],
   "outputs": [
    {
     "output_type": "execute_result",
     "data": {
      "text/plain": [
       "     count        mean          std      min      25%      50%      75%  \\\n",
       "PCE  125.0  12696.5848  1432.423586  10435.5  11329.2  12569.7  14014.6   \n",
       "\n",
       "         max  \n",
       "PCE  15659.3  "
      ],
      "text/html": [
       "<div>\n",
       "<style scoped>\n",
       "    .dataframe tbody tr th:only-of-type {\n",
       "        vertical-align: middle;\n",
       "    }\n",
       "\n",
       "    .dataframe tbody tr th {\n",
       "        vertical-align: top;\n",
       "    }\n",
       "\n",
       "    .dataframe thead th {\n",
       "        text-align: right;\n",
       "    }\n",
       "</style>\n",
       "<table border=\"1\" class=\"dataframe\">\n",
       "  <thead>\n",
       "    <tr style=\"text-align: right;\">\n",
       "      <th></th>\n",
       "      <th>count</th>\n",
       "      <th>mean</th>\n",
       "      <th>std</th>\n",
       "      <th>min</th>\n",
       "      <th>25%</th>\n",
       "      <th>50%</th>\n",
       "      <th>75%</th>\n",
       "      <th>max</th>\n",
       "    </tr>\n",
       "  </thead>\n",
       "  <tbody>\n",
       "    <tr>\n",
       "      <th>PCE</th>\n",
       "      <td>125.0</td>\n",
       "      <td>12696.5848</td>\n",
       "      <td>1432.423586</td>\n",
       "      <td>10435.5</td>\n",
       "      <td>11329.2</td>\n",
       "      <td>12569.7</td>\n",
       "      <td>14014.6</td>\n",
       "      <td>15659.3</td>\n",
       "    </tr>\n",
       "  </tbody>\n",
       "</table>\n",
       "</div>"
      ]
     },
     "metadata": {},
     "execution_count": 123
    }
   ],
   "metadata": {}
  },
  {
   "cell_type": "code",
   "execution_count": 124,
   "source": [
    "timestamp_s = month_col.map(datetime.datetime.timestamp)\r\n",
    "timestamp_s"
   ],
   "outputs": [
    {
     "output_type": "execute_result",
     "data": {
      "text/plain": [
       "0      1.293862e+09\n",
       "1      1.296540e+09\n",
       "2      1.298959e+09\n",
       "3      1.301634e+09\n",
       "4      1.304226e+09\n",
       "           ...     \n",
       "120    1.609481e+09\n",
       "121    1.612159e+09\n",
       "122    1.614578e+09\n",
       "123    1.617253e+09\n",
       "124    1.619845e+09\n",
       "Name: Month, Length: 125, dtype: float64"
      ]
     },
     "metadata": {},
     "execution_count": 124
    }
   ],
   "metadata": {}
  },
  {
   "cell_type": "markdown",
   "source": [
    "### Split the data"
   ],
   "metadata": {}
  },
  {
   "cell_type": "code",
   "execution_count": 125,
   "source": [
    "n = len(df)\r\n",
    "train_df = df[0:int(n*0.7)]\r\n",
    "val_df = df[int(n*0.7):int(n*0.9)]\r\n",
    "test_df = df[int(n*0.9):]"
   ],
   "outputs": [],
   "metadata": {}
  },
  {
   "cell_type": "markdown",
   "source": [
    "### Normalize the data"
   ],
   "metadata": {}
  },
  {
   "cell_type": "code",
   "execution_count": 126,
   "source": [
    "scaler = StandardScaler()\r\n",
    "train_df[['PCE']] = scaler.fit_transform(train_df[['PCE']])\r\n",
    "val_df[['PCE']] = scaler.fit_transform(val_df[['PCE']])\r\n",
    "test_df[['PCE']] = scaler.fit_transform(test_df[['PCE']])"
   ],
   "outputs": [
    {
     "output_type": "stream",
     "name": "stderr",
     "text": [
      "C:\\Users\\anush\\AppData\\Roaming\\Python\\Python37\\site-packages\\ipykernel_launcher.py:2: SettingWithCopyWarning: \n",
      "A value is trying to be set on a copy of a slice from a DataFrame.\n",
      "Try using .loc[row_indexer,col_indexer] = value instead\n",
      "\n",
      "See the caveats in the documentation: https://pandas.pydata.org/pandas-docs/stable/user_guide/indexing.html#returning-a-view-versus-a-copy\n",
      "  \n",
      "C:\\Program Files\\Microsoft Visual Studio\\Shared\\Python37_64\\lib\\site-packages\\pandas\\core\\frame.py:3072: SettingWithCopyWarning: \n",
      "A value is trying to be set on a copy of a slice from a DataFrame\n",
      "\n",
      "See the caveats in the documentation: https://pandas.pydata.org/pandas-docs/stable/user_guide/indexing.html#returning-a-view-versus-a-copy\n",
      "  self.iloc._setitem_with_indexer((slice(None), indexer), value)\n",
      "C:\\Program Files\\Microsoft Visual Studio\\Shared\\Python37_64\\lib\\site-packages\\pandas\\core\\frame.py:3037: SettingWithCopyWarning: \n",
      "A value is trying to be set on a copy of a slice from a DataFrame\n",
      "\n",
      "See the caveats in the documentation: https://pandas.pydata.org/pandas-docs/stable/user_guide/indexing.html#returning-a-view-versus-a-copy\n",
      "  self._setitem_array(key, value)\n",
      "C:\\Users\\anush\\AppData\\Roaming\\Python\\Python37\\site-packages\\ipykernel_launcher.py:3: SettingWithCopyWarning: \n",
      "A value is trying to be set on a copy of a slice from a DataFrame.\n",
      "Try using .loc[row_indexer,col_indexer] = value instead\n",
      "\n",
      "See the caveats in the documentation: https://pandas.pydata.org/pandas-docs/stable/user_guide/indexing.html#returning-a-view-versus-a-copy\n",
      "  This is separate from the ipykernel package so we can avoid doing imports until\n",
      "C:\\Program Files\\Microsoft Visual Studio\\Shared\\Python37_64\\lib\\site-packages\\pandas\\core\\frame.py:3072: SettingWithCopyWarning: \n",
      "A value is trying to be set on a copy of a slice from a DataFrame\n",
      "\n",
      "See the caveats in the documentation: https://pandas.pydata.org/pandas-docs/stable/user_guide/indexing.html#returning-a-view-versus-a-copy\n",
      "  self.iloc._setitem_with_indexer((slice(None), indexer), value)\n",
      "C:\\Program Files\\Microsoft Visual Studio\\Shared\\Python37_64\\lib\\site-packages\\pandas\\core\\frame.py:3037: SettingWithCopyWarning: \n",
      "A value is trying to be set on a copy of a slice from a DataFrame\n",
      "\n",
      "See the caveats in the documentation: https://pandas.pydata.org/pandas-docs/stable/user_guide/indexing.html#returning-a-view-versus-a-copy\n",
      "  self._setitem_array(key, value)\n",
      "C:\\Users\\anush\\AppData\\Roaming\\Python\\Python37\\site-packages\\ipykernel_launcher.py:4: SettingWithCopyWarning: \n",
      "A value is trying to be set on a copy of a slice from a DataFrame.\n",
      "Try using .loc[row_indexer,col_indexer] = value instead\n",
      "\n",
      "See the caveats in the documentation: https://pandas.pydata.org/pandas-docs/stable/user_guide/indexing.html#returning-a-view-versus-a-copy\n",
      "  after removing the cwd from sys.path.\n",
      "C:\\Program Files\\Microsoft Visual Studio\\Shared\\Python37_64\\lib\\site-packages\\pandas\\core\\frame.py:3072: SettingWithCopyWarning: \n",
      "A value is trying to be set on a copy of a slice from a DataFrame\n",
      "\n",
      "See the caveats in the documentation: https://pandas.pydata.org/pandas-docs/stable/user_guide/indexing.html#returning-a-view-versus-a-copy\n",
      "  self.iloc._setitem_with_indexer((slice(None), indexer), value)\n",
      "C:\\Program Files\\Microsoft Visual Studio\\Shared\\Python37_64\\lib\\site-packages\\pandas\\core\\frame.py:3037: SettingWithCopyWarning: \n",
      "A value is trying to be set on a copy of a slice from a DataFrame\n",
      "\n",
      "See the caveats in the documentation: https://pandas.pydata.org/pandas-docs/stable/user_guide/indexing.html#returning-a-view-versus-a-copy\n",
      "  self._setitem_array(key, value)\n"
     ]
    }
   ],
   "metadata": {}
  },
  {
   "cell_type": "markdown",
   "source": [
    "### Data Windowing"
   ],
   "metadata": {}
  },
  {
   "cell_type": "code",
   "execution_count": 129,
   "source": [
    "class WindowGenerator():\r\n",
    "  def __init__(self, input_width, label_width, shift, train_df=train_df, val_df=val_df, test_df=test_df, label_columns=None):\r\n",
    "    # Store the raw data.\r\n",
    "    self.train_df = train_df\r\n",
    "    self.val_df = val_df\r\n",
    "    self.test_df = test_df\r\n",
    "\r\n",
    "    # Work out the label column indices.\r\n",
    "    self.label_columns = label_columns\r\n",
    "    if label_columns is not None:\r\n",
    "      self.label_columns_indices = {name: i for i, name in\r\n",
    "                                    enumerate(label_columns)}\r\n",
    "    self.column_indices = {name: i for i, name in\r\n",
    "                           enumerate(train_df.columns)}\r\n",
    "\r\n",
    "    # Work out the window parameters.\r\n",
    "    self.input_width = input_width\r\n",
    "    self.label_width = label_width\r\n",
    "    self.shift = shift\r\n",
    "\r\n",
    "    self.total_window_size = input_width + shift\r\n",
    "\r\n",
    "    self.input_slice = slice(0, input_width)\r\n",
    "    self.input_indices = np.arange(self.total_window_size)[self.input_slice]\r\n",
    "\r\n",
    "    self.label_start = self.total_window_size - self.label_width\r\n",
    "    self.labels_slice = slice(self.label_start, None)\r\n",
    "    self.label_indices = np.arange(self.total_window_size)[self.labels_slice]\r\n",
    "\r\n",
    "  def __repr__(self):\r\n",
    "    return '\\n'.join([\r\n",
    "        f'Total window size: {self.total_window_size}',\r\n",
    "        f'Input indices: {self.input_indices}',\r\n",
    "        f'Label indices: {self.label_indices}',\r\n",
    "        f'Label column name(s): {self.label_columns}'])"
   ],
   "outputs": [],
   "metadata": {}
  },
  {
   "cell_type": "code",
   "execution_count": 130,
   "source": [
    "def split_window(self, features):\r\n",
    "    inputs = features[:, self.input_slice, :]\r\n",
    "    labels = features[:, self.labels_slice, :]\r\n",
    "    if self.label_columns is not None:\r\n",
    "        labels = tf.stack(\r\n",
    "            [labels[:, :, self.column_indices[name]] for name in self.label_columns], axis = -1)\r\n",
    "    \r\n",
    "    inputs.set_shape([None, self.input_width, None])\r\n",
    "    labels.set_shape([None, self.label_width, None])\r\n",
    "\r\n",
    "    return inputs, labels\r\n",
    "\r\n",
    "WindowGenerator.split_window = split_window"
   ],
   "outputs": [],
   "metadata": {}
  },
  {
   "cell_type": "code",
   "execution_count": 131,
   "source": [
    "def plot(self, model=None, plot_col='PCE', max_subplots=3):\r\n",
    "  inputs, labels = self.example\r\n",
    "  plt.figure(figsize=(12, 8))\r\n",
    "  plot_col_index = self.column_indices[plot_col]\r\n",
    "  max_n = min(max_subplots, len(inputs))\r\n",
    "  for n in range(max_n):\r\n",
    "    plt.subplot(max_n, 1, n+1)\r\n",
    "    plt.ylabel(f'{plot_col} [normed]')\r\n",
    "    plt.plot(self.input_indices, inputs[n, :, plot_col_index],\r\n",
    "             label='Inputs', marker='.', zorder=-10)\r\n",
    "\r\n",
    "    if self.label_columns:\r\n",
    "      label_col_index = self.label_columns_indices.get(plot_col, None)\r\n",
    "    else:\r\n",
    "      label_col_index = plot_col_index\r\n",
    "\r\n",
    "    if label_col_index is None:\r\n",
    "      continue\r\n",
    "\r\n",
    "    plt.scatter(self.label_indices, labels[n, :, label_col_index],\r\n",
    "                edgecolors='k', label='Labels', c='#2ca02c', s=64)\r\n",
    "    if model is not None:\r\n",
    "      predictions = model(inputs)\r\n",
    "      plt.scatter(self.label_indices, predictions[n, :, label_col_index],\r\n",
    "                  marker='X', edgecolors='k', label='Predictions',\r\n",
    "                  c='#ff7f0e', s=64)\r\n",
    "\r\n",
    "    if n == 0:\r\n",
    "      plt.legend()\r\n",
    "\r\n",
    "  plt.xlabel('Month')\r\n",
    "\r\n",
    "WindowGenerator.plot = plot"
   ],
   "outputs": [],
   "metadata": {}
  },
  {
   "cell_type": "markdown",
   "source": [
    "### Creating the Dataset"
   ],
   "metadata": {}
  },
  {
   "cell_type": "code",
   "execution_count": 132,
   "source": [
    "def make_dataset(self, data):\r\n",
    "    data = np.array(data, dtype=np.float32)\r\n",
    "    ds = tf.keras.preprocessing.timeseries_dataset_from_array(data=data, targets=None, sequence_length=self.total_window_size, sequence_stride=1, shuffle=True, batch_size=32,)\r\n",
    "    ds = ds.map(self.split_window)\r\n",
    "    return ds\r\n",
    "\r\n",
    "WindowGenerator.make_dataset = make_dataset"
   ],
   "outputs": [],
   "metadata": {}
  },
  {
   "cell_type": "code",
   "execution_count": 133,
   "source": [
    "@property\r\n",
    "def train(self):\r\n",
    "    return self.make_dataset(self.train_df)\r\n",
    "\r\n",
    "@property\r\n",
    "def val(self):\r\n",
    "    return self.make_dataset(self.val_df)\r\n",
    "\r\n",
    "@property\r\n",
    "def test(self):\r\n",
    "    return self.make_dataset(self.test_df)\r\n",
    "\r\n",
    "@property\r\n",
    "def example(self):\r\n",
    "    # Example batch of inputs and labels\r\n",
    "    result = getattr(self, '_example', None)\r\n",
    "    if result is None:\r\n",
    "        result = next(iter(self.train))\r\n",
    "        self._example = result\r\n",
    "    return result \r\n",
    "\r\n",
    "WindowGenerator.train = train\r\n",
    "WindowGenerator.val = val\r\n",
    "WindowGenerator.test = test\r\n",
    "WindowGenerator.example = example   "
   ],
   "outputs": [],
   "metadata": {}
  },
  {
   "cell_type": "code",
   "execution_count": null,
   "source": [],
   "outputs": [],
   "metadata": {}
  },
  {
   "cell_type": "markdown",
   "source": [
    "### Building the model"
   ],
   "metadata": {}
  },
  {
   "cell_type": "code",
   "execution_count": 134,
   "source": [
    "OUT_STEPS = 3\r\n",
    "multi_window = WindowGenerator(input_width=6, label_width=OUT_STEPS, shift=OUT_STEPS)\r\n",
    "\r\n",
    "multi_window.plot()\r\n",
    "multi_window"
   ],
   "outputs": [
    {
     "output_type": "execute_result",
     "data": {
      "text/plain": [
       "Total window size: 9\n",
       "Input indices: [0 1 2 3 4 5]\n",
       "Label indices: [6 7 8]\n",
       "Label column name(s): None"
      ]
     },
     "metadata": {},
     "execution_count": 134
    },
    {
     "output_type": "display_data",
     "data": {
      "text/plain": [
       "<Figure size 864x576 with 3 Axes>"
      ],
      "image/png": "[encoded data removed]"
     },
     "metadata": {
      "needs_background": "light"
     }
    }
   ],
   "metadata": {}
  },
  {
   "cell_type": "code",
   "execution_count": 135,
   "source": [
    "model = tf.keras.Sequential([\r\n",
    "    # Shape [batch, time, features] => [batch, lstm_units]\r\n",
    "    # Adding more `lstm_units` just overfits more quickly.\r\n",
    "    tf.keras.layers.GRU(256, return_sequences=True),\r\n",
    "    tf.keras.layers.SimpleRNN(128),\r\n",
    "    tf.keras.layers.Dropout(0.5),\r\n",
    "    # Shape => [batch, out_steps*features]\r\n",
    "    tf.keras.layers.Dense(32),\r\n",
    "    tf.keras.layers.Dense(OUT_STEPS),\r\n",
    "    # Shape => [batch, out_steps, features]\r\n",
    "    tf.keras.layers.Reshape([OUT_STEPS, 1])\r\n",
    "])"
   ],
   "outputs": [],
   "metadata": {}
  },
  {
   "cell_type": "code",
   "execution_count": 136,
   "source": [
    "MAX_EPOCHS = 20\r\n",
    "#early_stopping = tf.keras.callbacks.EarlyStopping(monitor='val_loss', patience=2, mode='min')\r\n",
    "model.compile(loss=tf.losses.MeanSquaredError(), optimizer=tf.optimizers.Adam(), metrics=[tf.metrics.MeanAbsoluteError()])\r\n",
    "model.fit(multi_window.train, epochs=MAX_EPOCHS, validation_data=multi_window.val, \r\n",
    "#callbacks=[early_stopping]\r\n",
    ")"
   ],
   "outputs": [
    {
     "output_type": "stream",
     "name": "stdout",
     "text": [
      "Epoch 1/20\n",
      "3/3 [==============================] - 0s 104ms/step - loss: 0.5830 - mean_absolute_error: 0.6190 - val_loss: 0.7823 - val_mean_absolute_error: 0.4838\n",
      "Epoch 2/20\n",
      "3/3 [==============================] - 0s 36ms/step - loss: 0.1679 - mean_absolute_error: 0.3136 - val_loss: 0.6325 - val_mean_absolute_error: 0.3394\n",
      "Epoch 3/20\n",
      "3/3 [==============================] - 0s 20ms/step - loss: 0.1215 - mean_absolute_error: 0.2638 - val_loss: 0.7248 - val_mean_absolute_error: 0.3117\n",
      "Epoch 4/20\n",
      "3/3 [==============================] - 0s 21ms/step - loss: 0.1113 - mean_absolute_error: 0.2513 - val_loss: 0.7307 - val_mean_absolute_error: 0.3210\n",
      "Epoch 5/20\n",
      "3/3 [==============================] - 0s 19ms/step - loss: 0.0966 - mean_absolute_error: 0.2181 - val_loss: 0.6842 - val_mean_absolute_error: 0.3138\n",
      "Epoch 6/20\n",
      "3/3 [==============================] - 0s 19ms/step - loss: 0.0649 - mean_absolute_error: 0.1936 - val_loss: 0.6850 - val_mean_absolute_error: 0.3539\n",
      "Epoch 7/20\n",
      "3/3 [==============================] - 0s 21ms/step - loss: 0.0704 - mean_absolute_error: 0.1951 - val_loss: 0.6812 - val_mean_absolute_error: 0.3739\n",
      "Epoch 8/20\n",
      "3/3 [==============================] - 0s 20ms/step - loss: 0.0621 - mean_absolute_error: 0.1837 - val_loss: 0.6893 - val_mean_absolute_error: 0.3854\n",
      "Epoch 9/20\n",
      "3/3 [==============================] - 0s 18ms/step - loss: 0.0463 - mean_absolute_error: 0.1604 - val_loss: 0.7075 - val_mean_absolute_error: 0.3635\n",
      "Epoch 10/20\n",
      "3/3 [==============================] - 0s 19ms/step - loss: 0.0438 - mean_absolute_error: 0.1531 - val_loss: 0.6878 - val_mean_absolute_error: 0.3312\n",
      "Epoch 11/20\n",
      "3/3 [==============================] - 0s 18ms/step - loss: 0.0340 - mean_absolute_error: 0.1273 - val_loss: 0.6670 - val_mean_absolute_error: 0.3137\n",
      "Epoch 12/20\n",
      "3/3 [==============================] - 0s 25ms/step - loss: 0.0382 - mean_absolute_error: 0.1437 - val_loss: 0.6887 - val_mean_absolute_error: 0.3094\n",
      "Epoch 13/20\n",
      "3/3 [==============================] - 0s 21ms/step - loss: 0.0284 - mean_absolute_error: 0.1316 - val_loss: 0.6799 - val_mean_absolute_error: 0.3279\n",
      "Epoch 14/20\n",
      "3/3 [==============================] - 0s 29ms/step - loss: 0.0326 - mean_absolute_error: 0.1319 - val_loss: 0.6726 - val_mean_absolute_error: 0.3602\n",
      "Epoch 15/20\n",
      "3/3 [==============================] - 0s 19ms/step - loss: 0.0291 - mean_absolute_error: 0.1253 - val_loss: 0.7022 - val_mean_absolute_error: 0.3717\n",
      "Epoch 16/20\n",
      "3/3 [==============================] - 0s 18ms/step - loss: 0.0248 - mean_absolute_error: 0.1200 - val_loss: 0.7279 - val_mean_absolute_error: 0.3587\n",
      "Epoch 17/20\n",
      "3/3 [==============================] - 0s 20ms/step - loss: 0.0318 - mean_absolute_error: 0.1307 - val_loss: 0.6875 - val_mean_absolute_error: 0.3470\n",
      "Epoch 18/20\n",
      "3/3 [==============================] - 0s 29ms/step - loss: 0.0272 - mean_absolute_error: 0.1320 - val_loss: 0.6851 - val_mean_absolute_error: 0.3318\n",
      "Epoch 19/20\n",
      "3/3 [==============================] - 0s 19ms/step - loss: 0.0294 - mean_absolute_error: 0.1293 - val_loss: 0.7048 - val_mean_absolute_error: 0.3298\n",
      "Epoch 20/20\n",
      "3/3 [==============================] - 0s 18ms/step - loss: 0.0284 - mean_absolute_error: 0.1311 - val_loss: 0.6803 - val_mean_absolute_error: 0.3445\n"
     ]
    },
    {
     "output_type": "execute_result",
     "data": {
      "text/plain": [
       "<tensorflow.python.keras.callbacks.History at 0x18b798a3208>"
      ]
     },
     "metadata": {},
     "execution_count": 136
    }
   ],
   "metadata": {}
  },
  {
   "cell_type": "code",
   "execution_count": 137,
   "source": [
    "val_performance = model.evaluate(multi_window.val)\r\n",
    "val_performance"
   ],
   "outputs": [
    {
     "output_type": "stream",
     "name": "stdout",
     "text": [
      "1/1 [==============================] - 0s 1ms/step - loss: 0.6803 - mean_absolute_error: 0.3445\n"
     ]
    },
    {
     "output_type": "execute_result",
     "data": {
      "text/plain": [
       "[0.6802514791488647, 0.34452512860298157]"
      ]
     },
     "metadata": {},
     "execution_count": 137
    }
   ],
   "metadata": {}
  },
  {
   "cell_type": "code",
   "execution_count": 138,
   "source": [
    "model.evaluate(multi_window.test, verbose=2)"
   ],
   "outputs": [
    {
     "output_type": "stream",
     "name": "stdout",
     "text": [
      "1/1 - 0s - loss: 0.7705 - mean_absolute_error: 0.7213\n"
     ]
    },
    {
     "output_type": "execute_result",
     "data": {
      "text/plain": [
       "[0.770450234413147, 0.7213477492332458]"
      ]
     },
     "metadata": {},
     "execution_count": 138
    }
   ],
   "metadata": {}
  },
  {
   "cell_type": "code",
   "execution_count": 139,
   "source": [
    "multi_window.val"
   ],
   "outputs": [
    {
     "output_type": "execute_result",
     "data": {
      "text/plain": [
       "<MapDataset shapes: ((None, 6, 1), (None, 3, 1)), types: (tf.float32, tf.float32)>"
      ]
     },
     "metadata": {},
     "execution_count": 139
    }
   ],
   "metadata": {}
  },
  {
   "cell_type": "code",
   "execution_count": 140,
   "source": [
    "multi_window.plot(model)"
   ],
   "outputs": [
    {
     "output_type": "display_data",
     "data": {
      "text/plain": [
       "<Figure size 864x576 with 3 Axes>"
      ],
      "image/png": "[encoded data removed]"
     },
     "metadata": {
      "needs_background": "light"
     }
    }
   ],
   "metadata": {}
  },
  {
   "cell_type": "code",
   "execution_count": 153,
   "source": [
    "# making predictions\r\n",
    "input = [[6000], [6010], [6020], [6030], [6040], [6050]]\r\n",
    "scaler = StandardScaler()\r\n",
    "input_scaled = scaler.fit_transform(input)\r\n",
    "print(input_scaled)\r\n",
    "input_scaled = tf.stack([np.array(input_scaled)])\r\n",
    "input_scaled.set_shape([None, 6, 1])\r\n",
    "results = model.predict(input_scaled, verbose=0)\r\n",
    "results"
   ],
   "outputs": [
    {
     "output_type": "stream",
     "name": "stdout",
     "text": [
      "[[-1.46385011]\n",
      " [-0.87831007]\n",
      " [-0.29277002]\n",
      " [ 0.29277002]\n",
      " [ 0.87831007]\n",
      " [ 1.46385011]]\n"
     ]
    },
    {
     "output_type": "execute_result",
     "data": {
      "text/plain": [
       "array([[[0.43344146],\n",
       "        [0.6165847 ],\n",
       "        [0.4382214 ]]], dtype=float32)"
      ]
     },
     "metadata": {},
     "execution_count": 153
    }
   ],
   "metadata": {}
  },
  {
   "cell_type": "code",
   "execution_count": 154,
   "source": [
    "# scale results of prediction\r\n",
    "inv_scale = scaler.inverse_transform([results])\r\n",
    "inv_scale"
   ],
   "outputs": [
    {
     "output_type": "stream",
     "name": "stdout",
     "text": [
      "[[[0.43344146]\n",
      "  [0.6165847 ]\n",
      "  [0.4382214 ]]]\n"
     ]
    }
   ],
   "metadata": {}
  },
  {
   "cell_type": "markdown",
   "source": [
    "### Saving the model"
   ],
   "metadata": {}
  },
  {
   "cell_type": "code",
   "execution_count": 156,
   "source": [
    "model.save('./model.h5')"
   ],
   "outputs": [],
   "metadata": {}
  }
 ],
 "metadata": {
  "interpreter": {
   "hash": "06014547589a61cba93326921aada2d9c2673a5830f6a0df3bac1f8e2dca027d"
  },
  "kernelspec": {
   "display_name": "Python 3.7.9 64-bit",
   "name": "python3"
  },
  "language_info": {
   "name": "python",
   "version": ""
  },
  "metadata": {
   "interpreter": {
    "hash": "06014547589a61cba93326921aada2d9c2673a5830f6a0df3bac1f8e2dca027d"
   }
  },
  "orig_nbformat": 2
 },
 "nbformat": 4,
 "nbformat_minor": 2
}